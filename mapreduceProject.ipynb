{
 "cells": [
  {
   "cell_type": "code",
   "execution_count": 1,
   "metadata": {},
   "outputs": [],
   "source": [
    "def mapper_word1(line):\n",
    "    validHashes = []\n",
    "    split = line.split()\n",
    "    for i in split:\n",
    "        if i[0] == \"#\":\n",
    "            validHashes.append(i)\n",
    "    \n",
    "    temp = []\n",
    "    for i in validHashes:\n",
    "        string = i\n",
    "        string = re.sub('[^0-9a-zA-Z]+', '', string)\n",
    "        if string != \"\":\n",
    "            tup = (string, 1)\n",
    "            temp.append(tup)\n",
    "    return temp"
   ]
  },
  {
   "cell_type": "code",
   "execution_count": 2,
   "metadata": {},
   "outputs": [],
   "source": [
    "def mapper_word2(line):\n",
    "    validAts = []\n",
    "    split = line.split()\n",
    "    for i in split:\n",
    "        if i[0] == \"@\":\n",
    "            validAts.append(i)\n",
    "    \n",
    "    temp = []\n",
    "    for i in validAts:\n",
    "        string = i\n",
    "        string = re.sub('@', '', string)\n",
    "        if string != \"\":\n",
    "            tup = (string, 1)\n",
    "            temp.append(tup)\n",
    "    return temp\n"
   ]
  },
  {
   "cell_type": "code",
   "execution_count": 3,
   "metadata": {},
   "outputs": [],
   "source": [
    "def mapper_word3(line):\n",
    "    validHashes = []\n",
    "    doubleHashCount = 0\n",
    "#     split = line.split()\n",
    "#     for i in split:\n",
    "#         if i[0] == \"#\" and len(i)>1:\n",
    "#             validHashes.append(i)\n",
    "    temp = []\n",
    "    validHashes = re.findall(r'\\s#[^\\s]+',line)\n",
    "    if len(validHashes)>= 2:\n",
    "        doubleHashCount = doubleHashCount +1\n",
    "        for i in validHashes:\n",
    "            string = i\n",
    "            string = re.sub('[^0-9a-zA-Z]+', '', string)\n",
    "            if string != \"\":\n",
    "                tup = (string, 1)\n",
    "                temp.append(tup)\n",
    "                \n",
    "    return temp, doubleHashCount"
   ]
  },
  {
   "cell_type": "code",
   "execution_count": 4,
   "metadata": {},
   "outputs": [],
   "source": [
    "import itertools\n",
    "import operator\n",
    "def mapper(List):\n",
    "    it = itertools.groupby(List, operator.itemgetter(0))\n",
    "    return it"
   ]
  },
  {
   "cell_type": "code",
   "execution_count": 5,
   "metadata": {},
   "outputs": [],
   "source": [
    "def reducer(mapped):\n",
    "    for key, subiter in mapped:\n",
    "        yield key, sum(item[1] for item in subiter)\n",
    "    "
   ]
  },
  {
   "cell_type": "code",
   "execution_count": 7,
   "metadata": {
    "scrolled": false
   },
   "outputs": [
    {
     "name": "stdout",
     "output_type": "stream",
     "text": [
      "Parsing Complete\n",
      "[('ff', 3522), ('nowplaying', 1799), ('fb', 1362), ('mm', 1017), ('fail', 628), ('random', 601), ('haiti', 586), ('shoutout', 516), ('musicmonday', 451), ('followfriday', 449)]\n",
      "0.8886244297027588\n"
     ]
    }
   ],
   "source": [
    "import re\n",
    "import time\n",
    "# HASHTAG1\n",
    "def takeSecond(elem):\n",
    "    return elem[1]\n",
    "\n",
    "def mapreduce_execute(filename):\n",
    "\n",
    "    file = open(filename, encoding=\"utf8\")\n",
    "    hashtagArr = []\n",
    "    temparr = []\n",
    "\n",
    "    for lines in range(500000):\n",
    "        hashes = []\n",
    "        line = file.readline().lower()\n",
    "\n",
    "    \n",
    "\n",
    "        if \"#\" in line:\n",
    "            result = mapper_word1(line)\n",
    "            hashtagArr.extend(result)\n",
    "    \n",
    "    \n",
    "    mapped = mapper(sorted(hashtagArr))\n",
    "    sumMapped = list(reducer(mapped))\n",
    "    sortedList = sorted(sumMapped, key=takeSecond, reverse= True)\n",
    "    top10 = sortedList[0:10]\n",
    "    print(\"Parsing Complete\")\n",
    "    finalresult = []\n",
    "    for i in top10:\n",
    "        finalresult.append(i[0])\n",
    "#     print(finalresult)\n",
    "    print(top10)\n",
    "    return finalresult\n",
    "\n",
    "\n",
    "t0 = time.time()\n",
    "mapreduce_execute(\"test_set_tweets.txt\")\n",
    "\n",
    "runtime = time.time() - t0\n",
    "print(runtime)\n"
   ]
  },
  {
   "cell_type": "code",
   "execution_count": 10,
   "metadata": {},
   "outputs": [
    {
     "name": "stdout",
     "output_type": "stream",
     "text": [
      "Parsing Complete\n",
      "[('RevRunWisdom:', 1229), ('listensto', 939), ('DonnieWahlberg', 523), ('OGmuscles', 441), ('addthis', 429), ('breatheitin', 407), ('justinbieber', 354), ('MAV25', 347), ('karlievoice', 304), ('mtgcolorpie', 291)]\n",
      "3.358532428741455\n"
     ]
    }
   ],
   "source": [
    "import re\n",
    "import time\n",
    "#AT1\n",
    "def takeSecond(elem):\n",
    "    return elem[1]\n",
    "\n",
    "def mapreduce_execute(filename):\n",
    "\n",
    "    file = open(filename, encoding=\"utf8\")\n",
    "    atArr = []\n",
    "\n",
    "\n",
    "    for lines in range(750000):\n",
    "        ats = []\n",
    "        line = file.readline()\n",
    "\n",
    "        if \"@\" in line:\n",
    "            result = mapper_word2(line)\n",
    "            atArr.extend(result)\n",
    "    \n",
    "    \n",
    "    mapped = mapper(sorted(atArr))\n",
    "    sumMapped = list(reducer(mapped))\n",
    "    sortedList = sorted(sumMapped, key=takeSecond, reverse= True)\n",
    "    top10 = sortedList[0:10]\n",
    "    print(\"Parsing Complete\")\n",
    "    finalresult = []\n",
    "    for i in top10:\n",
    "        finalresult.append(i[0])\n",
    "#     print(finalresult)\n",
    "    print(top10)\n",
    "    return finalresult\n",
    "\n",
    "\n",
    "t0 = time.time()\n",
    "mapreduce_execute(\"tweets.txt\")\n",
    "\n",
    "runtime = time.time() - t0\n",
    "print(runtime)"
   ]
  },
  {
   "cell_type": "code",
   "execution_count": 8,
   "metadata": {
    "scrolled": true
   },
   "outputs": [
    {
     "name": "stdout",
     "output_type": "stream",
     "text": [
      "Parsing Complete\n",
      "[('ff', 629), ('jobs', 567), ('tcot', 476), ('haiti', 399), ('fb', 355), ('happybdayarchie', 351), ('fail', 245), ('shjobs', 240), ('beatcancer', 196), ('job', 187)]\n",
      "1.2307143211364746\n",
      "14957\n"
     ]
    }
   ],
   "source": [
    "import re\n",
    "import time\n",
    "#HASHTAG2\n",
    "def takeSecond(elem):\n",
    "    return elem[1]\n",
    "\n",
    "def mapreduce_execute(filename):\n",
    "    doubleHashCount = 0\n",
    "    file = open(filename, encoding=\"utf8\")\n",
    "    hashtagArr = []\n",
    "\n",
    "\n",
    "    for lines in range(750000):\n",
    "        hashes = []\n",
    "        line = file.readline().lower()\n",
    "\n",
    "        if \"#\" in line:\n",
    "            result, dCount = mapper_word3(line)\n",
    "            doubleHashCount = doubleHashCount + dCount\n",
    "            hashtagArr.extend(result)\n",
    "    \n",
    "    \n",
    "    mapped = mapper(sorted(hashtagArr))\n",
    "    sumMapped = list(reducer(mapped))\n",
    "    sortedList = sorted(sumMapped, key=takeSecond, reverse= True)\n",
    "    top10 = sortedList[0:10]\n",
    "    print(\"Parsing Complete\")\n",
    "    finalresult = []\n",
    "    for i in top10:\n",
    "        finalresult.append(i[0])\n",
    "#     print(finalresult)\n",
    "    print(top10)\n",
    "    return finalresult, doubleHashCount\n",
    "\n",
    "\n",
    "t0 = time.time()\n",
    "result, doubleHashCount = mapreduce_execute(\"tweets.txt\")\n",
    "\n",
    "runtime = time.time() - t0\n",
    "print(runtime)\n",
    "print(doubleHashCount)\n"
   ]
  },
  {
   "cell_type": "code",
   "execution_count": 9,
   "metadata": {},
   "outputs": [
    {
     "name": "stdout",
     "output_type": "stream",
     "text": [
      "1352\n"
     ]
    }
   ],
   "source": [
    "file = open(\"tweets.txt\", encoding=\"utf8\")\n",
    "count = 0\n",
    "\n",
    "for i in range(750000):\n",
    "    string = file.readline()\n",
    "    validHashTemp = []\n",
    "    if \"@\" in string:\n",
    "        \n",
    "        split = string.split()\n",
    "        for i in split:\n",
    "            if i[0] == \"@\":\n",
    "                validHashTemp.append(i)\n",
    "                \n",
    "        temp = []\n",
    "        for i in  validHashTemp:\n",
    "            string = i\n",
    "            string = re.sub('[^0-9a-zA-Z]+', '', string)\n",
    "            if string != \"\":\n",
    "                tup = (string, 1)\n",
    "                temp.append(tup)\n",
    "                if string == \"RevRunWisdom\":\n",
    "                    count = count +1\n",
    "\n",
    "print(count)"
   ]
  },
  {
   "cell_type": "code",
   "execution_count": 16,
   "metadata": {},
   "outputs": [],
   "source": [
    "def mapper(dataSub):\n",
    "    \n",
    "    arrSource = []\n",
    "    arrDest = []\n",
    "    for i in range(500000):\n",
    "        arrSource.append((dataSub.iloc[i,0],dataSub.iloc[i,1]))\n",
    "        arrDest.append((dataSub.iloc[i,1],dataSub.iloc[i,0]))\n",
    "    return arrSource, arrDest"
   ]
  },
  {
   "cell_type": "code",
   "execution_count": 19,
   "metadata": {},
   "outputs": [],
   "source": [
    "def reducer(forward, backward):\n",
    "    newARR = forward+backward\n",
    "    newARR = sorted(newARR)\n",
    "    return newARR"
   ]
  },
  {
   "cell_type": "code",
   "execution_count": 20,
   "metadata": {},
   "outputs": [
    {
     "name": "stdout",
     "output_type": "stream",
     "text": [
      "[(3682, 5276), (5276, 3682), (13232, 18205), (13232, 63255), (15574, 15926), (15926, 15574), (18205, 13232), (19628, 19821), (19628, 20033), (19821, 19628), (20033, 19628), (22196, 76473), (23503, 41422), (31866, 32002), (32002, 31866), (32173, 32452), (32452, 32173), (33099, 62167), (33884, 34046), (33884, 34101), (34046, 33884), (34101, 33884), (40704, 40997), (40704, 41039), (40997, 40704), (40997, 41039), (40997, 62623), (40997, 201063), (41039, 40704), (41039, 40997), (41422, 23503), (58783, 58875), (58875, 58783), (60887, 70696), (62167, 33099), (62623, 40997), (63255, 13232), (63255, 65435), (65411, 65435), (65435, 63255), (65435, 65411), (65435, 93260), (70696, 60887), (70696, 70772), (70772, 70696), (76473, 22196), (78182, 78464), (78464, 78182), (80092, 80096), (80096, 80092), (89222, 89350), (89350, 89222), (93260, 65435), (93260, 93427), (93427, 93260), (100591, 100721), (100721, 100591), (102898, 122546), (122546, 102898), (134409, 134410), (134410, 134409), (135546, 135684), (135684, 135546), (192865, 192899), (192899, 192865), (201063, 40997), (201078, 201607), (201607, 201078)]\n",
      "Difference in unique nodes: 249347\n",
      "Difference in edges: 499932\n",
      "Runtime: 31.861604690551758\n"
     ]
    }
   ],
   "source": [
    "import pandas as pd\n",
    "def mapreduce_execute(filename):\n",
    "    data = pd.read_csv(filename, header= None)\n",
    "    dataSub = data.iloc[0:500000,]\n",
    "    \n",
    "    uniqueNodes = list(dataSub.iloc[:,0]) + list(dataSub.iloc[:,1])\n",
    "    uniqueNodes = set(uniqueNodes)\n",
    "    \n",
    "    Source, Dest = mapper(dataSub)\n",
    "    reduced = reducer(Source, Dest)\n",
    "    \n",
    "    result = []\n",
    "    for i in range(len(reduced)-1):\n",
    "        if reduced[i] == reduced[i+1]:\n",
    "            result.append((reduced[i][0], reduced[i][1]))\n",
    "            \n",
    "    with open('reciprocal.txt', 'w+') as fp:\n",
    "        fp.write('\\n'.join('%s,%s' % x for x in result))\n",
    "    \n",
    "    uniqueSubNodes = []\n",
    "    for i in result:\n",
    "        uniqueSubNodes.append(i[0])\n",
    "        uniqueSubNodes.append(i[1])\n",
    "    uniqueSubNodes = set(uniqueSubNodes)\n",
    "    \n",
    "    diffNodes = len(uniqueNodes) - len(uniqueSubNodes)\n",
    "    diffEdges = 500000 - len(result)\n",
    "    return result, diffNodes, diffEdges\n",
    "\n",
    "t0 = time.time()\n",
    "result, diffNodes, diffEdges = mapreduce_execute(\"edges.csv\")\n",
    "runtime = time.time() - t0\n",
    "print(result)\n",
    "print(\"Difference in unique nodes: \"+ str(diffNodes))\n",
    "print(\"Difference in edges: \"+ str(diffEdges))\n",
    "print(\"Runtime: \"+str(runtime))\n"
   ]
  },
  {
   "cell_type": "code",
   "execution_count": null,
   "metadata": {},
   "outputs": [],
   "source": []
  },
  {
   "cell_type": "code",
   "execution_count": 37,
   "metadata": {},
   "outputs": [],
   "source": [
    "\n"
   ]
  },
  {
   "cell_type": "code",
   "execution_count": 21,
   "metadata": {},
   "outputs": [],
   "source": [
    "def mapper(reciprocalData, dataSub):\n",
    "    arrReciprocal = []\n",
    "    arrAll = []\n",
    "    for i in range(len(reciprocalData)):\n",
    "        arrReciprocal.append((reciprocalData.iloc[i,0],reciprocalData.iloc[i,1]))\n",
    "    for i in range(len(dataSub)):\n",
    "        arrAll.append((dataSub.iloc[i,0],dataSub.iloc[i,1]))\n",
    "\n",
    "    dictAll = dict((k, [v[1] for v in itr]) for k, itr in groupby( \n",
    "                                    arrAll, itemgetter(0))) \n",
    "    return arrReciprocal, dictAll"
   ]
  },
  {
   "cell_type": "code",
   "execution_count": 22,
   "metadata": {},
   "outputs": [],
   "source": [
    "def reduce(arrReciprocal, dictAll):\n",
    "    pairAndFriendsInCommon = []\n",
    "    for i in arrReciprocal:\n",
    "        temp = (i[1], i[0])\n",
    "        if temp in arrReciprocal:\n",
    "            arrReciprocal.remove(temp)\n",
    "\n",
    "    for i in range(len(arrReciprocal)):\n",
    "        friend1 = dictAll.get(arrReciprocal[i][0])\n",
    "        friend2 = dictAll.get(arrReciprocal[i][1])\n",
    "        intercept = sorted(friend1 + friend2)\n",
    "\n",
    "        friendsInCommon = []\n",
    "        for j in range(len(intercept)-1):\n",
    "            if intercept[j] == intercept[j+1]:\n",
    "                friendsInCommon.append(intercept[j])\n",
    "        temp = []\n",
    "        pairAndFriendsInCommon.append(((arrReciprocal[i]), len(friendsInCommon)))\n",
    "    return pairAndFriendsInCommon"
   ]
  },
  {
   "cell_type": "code",
   "execution_count": 27,
   "metadata": {},
   "outputs": [
    {
     "name": "stdout",
     "output_type": "stream",
     "text": [
      "Pair: (3682, 5276), Friends in common: 714\n",
      "Pair: (40704, 40997), Friends in common: 402\n",
      "Pair: (40997, 41039), Friends in common: 360\n",
      "Pair: (23503, 41422), Friends in common: 352\n",
      "Pair: (60887, 70696), Friends in common: 332\n",
      "Pair: (135546, 135684), Friends in common: 282\n",
      "Pair: (70696, 70772), Friends in common: 259\n",
      "Pair: (40704, 41039), Friends in common: 252\n",
      "Pair: (13232, 63255), Friends in common: 236\n",
      "Pair: (32173, 32452), Friends in common: 194\n"
     ]
    }
   ],
   "source": [
    "from collections import defaultdict \n",
    "from operator import itemgetter \n",
    "from itertools import groupby \n",
    "\n",
    "def mapreduce_execute(filename):\n",
    "    \n",
    "\n",
    "    reciprocalData = pd.read_csv(filename, header= None)\n",
    "    data = pd.read_csv(\"edges.csv\", header= None)\n",
    "    dataSub = data.iloc[0:500000,]\n",
    "    \n",
    "    arrDestReciprocal, dictAll = mapper(reciprocalData, dataSub)\n",
    "    pairAndFriendsInCommon = reduce(arrDestReciprocal, dictAll)\n",
    "\n",
    "    pairAndFriendsInCommon = sorted(pairAndFriendsInCommon, key = lambda x: x[1], reverse=True)\n",
    "    pairAndFriendsInCommon[0:10]\n",
    "    result = []\n",
    "    for i in pairAndFriendsInCommon:\n",
    "        result.append(str(\"Pair: \"+str(i[0])+\", Friends in common: \"+str(i[1])))\n",
    "    for i in range (10):\n",
    "        print(result[i])\n",
    "mapreduce_execute(\"reciprocal.txt\")"
   ]
  },
  {
   "cell_type": "code",
   "execution_count": null,
   "metadata": {},
   "outputs": [],
   "source": []
  }
 ],
 "metadata": {
  "kernelspec": {
   "display_name": "Python 3",
   "language": "python",
   "name": "python3"
  },
  "language_info": {
   "codemirror_mode": {
    "name": "ipython",
    "version": 3
   },
   "file_extension": ".py",
   "mimetype": "text/x-python",
   "name": "python",
   "nbconvert_exporter": "python",
   "pygments_lexer": "ipython3",
   "version": "3.7.3"
  }
 },
 "nbformat": 4,
 "nbformat_minor": 2
}
