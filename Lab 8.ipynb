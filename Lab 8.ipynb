{
 "cells": [
  {
   "cell_type": "code",
   "execution_count": 211,
   "metadata": {},
   "outputs": [
    {
     "data": {
      "text/plain": [
       "<matplotlib.axes._subplots.AxesSubplot at 0x25b586ce748>"
      ]
     },
     "execution_count": 211,
     "metadata": {},
     "output_type": "execute_result"
    },
    {
     "data": {
      "image/png": "[encoded data removed]",
      "text/plain": [
       "<Figure size 432x288 with 1 Axes>"
      ]
     },
     "metadata": {
      "needs_background": "light"
     },
     "output_type": "display_data"
    }
   ],
   "source": [
    "import pandas\n",
    "import numpy\n",
    "data = pandas.read_csv(\"iris.dat.txt\", header=None)\n",
    "SepalWidth = data.iloc[:,1]\n",
    "ClassLabel = data.iloc[:,4]\n",
    "\n",
    "newDF = data[[1,4]]\n",
    "\n",
    "newDF = newDF.pivot( columns=4, values=1)\n",
    "temp1 = newDF.iloc[:,0]\n",
    "temp1 = temp1.dropna()\n",
    "temp2 = newDF.iloc[:,1]\n",
    "temp2 = temp2.dropna()\n",
    "temp3 = newDF.iloc[:,2]\n",
    "temp3 = temp3.dropna()\n",
    "\n",
    "df = pandas.DataFrame(list(zip(temp1, temp2,temp3)),columns= [\"Iris-setosa\",\"Iris-versicolor\",\"Iris-virginica\"])\n",
    "df.boxplot()"
   ]
  },
  {
   "cell_type": "code",
   "execution_count": null,
   "metadata": {},
   "outputs": [],
   "source": [
    "\n",
    "#Hypothesis 1: Sepal Width of Setosa is significantly different than Versicolor\n",
    "#Hypothesis 2: Sepal Width of Setosa is significantly different than Virginica\n",
    "#Hypothesis 3: Sepal Width of Versicolor is significantly different than Virginica\n"
   ]
  },
  {
   "cell_type": "code",
   "execution_count": 212,
   "metadata": {},
   "outputs": [],
   "source": [
    "import pandas\n",
    "from scipy import stats\n",
    "def two_sample_paired_t_test1(filename):\n",
    "    resultList = []\n",
    "#     Iris-setosa \tIris-versicolor \tIris-virginica\n",
    "    column1 = df[\"Iris-setosa\"]\n",
    "    column2 = df[\"Iris-virginica\"]\n",
    "\n",
    "    resultPaired = stats.ttest_rel(column1,column2)\n",
    "    pVal1 = resultPaired[1]\n",
    "    resultList.append(float(pVal1))\n",
    "    if pVal1>0.1:\n",
    "        resultList.append(\"accept\")\n",
    "    else:\n",
    "        resultList.append(\"reject\")    \n",
    "               \n",
    "    return(tuple(resultList))\n",
    "\n",
    "result1 = two_sample_paired_t_test1(\"iris.dat.txt\")\n"
   ]
  },
  {
   "cell_type": "code",
   "execution_count": 213,
   "metadata": {},
   "outputs": [
    {
     "name": "stdout",
     "output_type": "stream",
     "text": [
      "Alpha = 0.1: Since the p value obtained from the t-test is 8.783585025401306e-08, thus we reject the hypothesis.\n"
     ]
    }
   ],
   "source": [
    "result1\n",
    "print(\"Alpha = 0.1: Since the p value obtained from the t-test is \"+ str(result1[0])+ \", thus we \"+ result1[1]+\" the hypothesis.\")"
   ]
  },
  {
   "cell_type": "code",
   "execution_count": 214,
   "metadata": {},
   "outputs": [],
   "source": [
    "def two_sample_paired_t_test2(filename):\n",
    "    resultList = []\n",
    "    column1 = df[\"Iris-versicolor\"]\n",
    "    column2 = df[\"Iris-virginica\"]\n",
    "\n",
    "    resultPaired = stats.ttest_rel(column1,column2)\n",
    "    pVal1 = resultPaired[1]\n",
    "    resultList.append(float(pVal1))\n",
    "    if pVal1>0.1:\n",
    "        resultList.append(\"accept\")\n",
    "    else:\n",
    "        resultList.append(\"reject\")    \n",
    "               \n",
    "    return(tuple(resultList))\n",
    "\n",
    "result2 = two_sample_paired_t_test2(\"iris.dat.txt\")"
   ]
  },
  {
   "cell_type": "code",
   "execution_count": 215,
   "metadata": {},
   "outputs": [
    {
     "name": "stdout",
     "output_type": "stream",
     "text": [
      "Alpha = 0.1: Since the p value obtained from the t-test is 0.0034322095632924993, thus we reject the hypothesis.\n"
     ]
    }
   ],
   "source": [
    "result2\n",
    "print(\"Alpha = 0.1: Since the p value obtained from the t-test is \"+ str(result2[0])+ \", thus we \"+ result2[1]+\" the hypothesis.\")"
   ]
  },
  {
   "cell_type": "code",
   "execution_count": 216,
   "metadata": {
    "scrolled": true
   },
   "outputs": [
    {
     "data": {
      "text/plain": [
       "<matplotlib.axes._subplots.AxesSubplot at 0x25b582cb828>"
      ]
     },
     "execution_count": 216,
     "metadata": {},
     "output_type": "execute_result"
    },
    {
     "data": {
      "image/png": "[encoded data removed]",
      "text/plain": [
       "<Figure size 432x288 with 1 Axes>"
      ]
     },
     "metadata": {
      "needs_background": "light"
     },
     "output_type": "display_data"
    }
   ],
   "source": [
    "temp1 = pandas.DataFrame(df[\"Iris-setosa\"].sample(n=10, replace=True, random_state = 99))\n",
    "temp2 = pandas.DataFrame(df[\"Iris-versicolor\"].sample(n=10, replace=True, random_state = 68))\n",
    "temp3 = pandas.DataFrame(df[\"Iris-virginica\"].sample(n=10, replace=True, random_state = 25))\n",
    "temp1 = temp1.reset_index(drop=True)\n",
    "temp2 = temp2.reset_index(drop=True)\n",
    "temp3 = temp3.reset_index(drop=True)\n",
    "sample = temp1.join(temp2).join(temp3)\n",
    "# new = df.append(sample).reset_index(drop=True)\n",
    "sample.boxplot()"
   ]
  },
  {
   "cell_type": "code",
   "execution_count": null,
   "metadata": {},
   "outputs": [],
   "source": [
    "#Classes 1 vs 3 hypothesis would still be rejected\n",
    "#Classes 2 vs 3 hypothesis would be accepted"
   ]
  },
  {
   "cell_type": "code",
   "execution_count": 217,
   "metadata": {},
   "outputs": [],
   "source": [
    "def two_sample_paired_t_test1Resampled(filename):\n",
    "    resultList = []\n",
    "    column1 = sample[\"Iris-setosa\"]\n",
    "    column2 = sample[\"Iris-virginica\"]\n",
    "\n",
    "    resultPaired = stats.ttest_rel(column1,column2)\n",
    "    pVal1 = resultPaired[1]\n",
    "    resultList.append(float(pVal1))\n",
    "    if pVal1>0.1:\n",
    "        resultList.append(\"accept\")\n",
    "    else:\n",
    "        resultList.append(\"reject\")    \n",
    "               \n",
    "    return(tuple(resultList))\n",
    "\n",
    "result1 = two_sample_paired_t_test1Resampled(\"iris.dat.txt\")\n"
   ]
  },
  {
   "cell_type": "code",
   "execution_count": null,
   "metadata": {},
   "outputs": [],
   "source": []
  },
  {
   "cell_type": "code",
   "execution_count": 218,
   "metadata": {},
   "outputs": [],
   "source": [
    "def two_sample_paired_t_test2Resampled(filename):\n",
    "    resultList = []\n",
    "    column1 = sample[\"Iris-versicolor\"]\n",
    "    column2 = sample[\"Iris-virginica\"]\n",
    "\n",
    "    resultPaired = stats.ttest_rel(column1,column2)\n",
    "    pVal1 = resultPaired[1]\n",
    "    resultList.append(float(pVal1))\n",
    "    if pVal1>0.1:\n",
    "        resultList.append(\"accept\")\n",
    "    else:\n",
    "        resultList.append(\"reject\")    \n",
    "               \n",
    "    return(tuple(resultList))\n",
    "\n",
    "result2 = two_sample_paired_t_test2Resampled(\"iris.dat.txt\")\n"
   ]
  },
  {
   "cell_type": "code",
   "execution_count": 219,
   "metadata": {},
   "outputs": [
    {
     "name": "stdout",
     "output_type": "stream",
     "text": [
      "Alpha = 0.1: Since the p value obtained from the t-test is 0.06256803336937534, thus we reject the hypothesis.\n"
     ]
    }
   ],
   "source": [
    "result1\n",
    "print(\"Alpha = 0.1: Since the p value obtained from the t-test is \"+ str(result1[0])+ \", thus we \"+ result1[1]+\" the hypothesis.\")"
   ]
  },
  {
   "cell_type": "code",
   "execution_count": 220,
   "metadata": {},
   "outputs": [
    {
     "name": "stdout",
     "output_type": "stream",
     "text": [
      "Alpha = 0.1: Since the p value obtained from the t-test is 0.14907377489601573, thus we accept the hypothesis.\n"
     ]
    }
   ],
   "source": [
    "result2\n",
    "print(\"Alpha = 0.1: Since the p value obtained from the t-test is \"+ str(result2[0])+ \", thus we \"+ result2[1]+\" the hypothesis.\")"
   ]
  },
  {
   "cell_type": "code",
   "execution_count": 221,
   "metadata": {},
   "outputs": [],
   "source": [
    "alpha = 0.1\n",
    "stderr = 1-(1-alpha)**4"
   ]
  },
  {
   "cell_type": "code",
   "execution_count": 222,
   "metadata": {},
   "outputs": [
    {
     "name": "stdout",
     "output_type": "stream",
     "text": [
      "The propability that I made at least one error in the set of hypothesis tests is: 0.3439\n"
     ]
    }
   ],
   "source": [
    "print(\"The propability that I made at least one error in the set of hypothesis tests is: \" + str(stderr))"
   ]
  },
  {
   "cell_type": "code",
   "execution_count": null,
   "metadata": {},
   "outputs": [],
   "source": []
  }
 ],
 "metadata": {
  "kernelspec": {
   "display_name": "Python 3",
   "language": "python",
   "name": "python3"
  },
  "language_info": {
   "codemirror_mode": {
    "name": "ipython",
    "version": 3
   },
   "file_extension": ".py",
   "mimetype": "text/x-python",
   "name": "python",
   "nbconvert_exporter": "python",
   "pygments_lexer": "ipython3",
   "version": "3.7.3"
  }
 },
 "nbformat": 4,
 "nbformat_minor": 2
}
