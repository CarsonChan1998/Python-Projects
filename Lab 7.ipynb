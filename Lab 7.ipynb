{
 "cells": [
  {
   "cell_type": "code",
   "execution_count": 44,
   "metadata": {},
   "outputs": [
    {
     "data": {
      "text/plain": [
       "(0.15989224145306744, 'accept')"
      ]
     },
     "execution_count": 44,
     "metadata": {},
     "output_type": "execute_result"
    }
   ],
   "source": [
    "# one_sample_two_sided_t_test(filename) takes as input a csv file to read the data from, and returns a tuple with:\n",
    "# (1) the first element as the p value returned from the t-test, and \n",
    "# (2) the second element as a string which can take two values: \"accept\" or \"reject\", indicating whether you accept or\n",
    "# reject the hypothesis, respectively.\n",
    "import pandas\n",
    "from scipy import stats\n",
    "\n",
    "def one_sample_two_sided_t_test(filename):\n",
    "   \n",
    "    df = pandas.read_csv(filename)\n",
    "    VIQ = (list(df.iloc[:,2]))\n",
    "    \n",
    "    result = stats.ttest_1samp(VIQ,107)\n",
    "    pVal = result[1]\n",
    "    \n",
    "    if pVal>0.1:\n",
    "        return (pVal,\"accept\")\n",
    "    else:\n",
    "        return (pVal,\"reject\")\n",
    "\n",
    "# Example Output: (0.15989224145306744, 'accept')\n",
    "one_sample_two_sided_t_test(\"brain_size_features_demo\")"
   ]
  },
  {
   "cell_type": "code",
   "execution_count": 49,
   "metadata": {},
   "outputs": [
    {
     "data": {
      "text/plain": [
       "(0.07994612072653372, 'reject')"
      ]
     },
     "execution_count": 49,
     "metadata": {},
     "output_type": "execute_result"
    }
   ],
   "source": [
    "# one_sample_one_sided_t_test(filename) takes as input a csv file to read the data from, and returns a tuple with:\n",
    "# (1) the first element as half of the p value returned from the t-test, and \n",
    "# (2) the second element as a string which can take two values: \"accept\" or \"reject\", indicating whether you accept or\n",
    "# reject the hypothesis, respectively.\n",
    "import pandas\n",
    "from scipy import stats\n",
    "\n",
    "\n",
    "def one_sample_one_sided_t_test(filename):\n",
    "    df = pandas.read_csv(filename)\n",
    "    \n",
    "    VIQ = (list(df.iloc[:,2]))\n",
    "    \n",
    "    result = stats.ttest_1samp(VIQ,107)\n",
    "    pVal = result[1] / 2\n",
    "    \n",
    "    if pVal>0.1:\n",
    "        return (pVal,\"accept\")\n",
    "    else:\n",
    "        return (pVal,\"reject\")\n",
    "    ###\n",
    "    ### YOUR CODE HERE\n",
    "    ###\n",
    "\n",
    "# Example Output: (0.07994612072653372, 'reject')\n",
    "one_sample_one_sided_t_test(\"brain_size_features_demo\")"
   ]
  },
  {
   "cell_type": "code",
   "execution_count": 65,
   "metadata": {},
   "outputs": [
    {
     "data": {
      "text/plain": [
       "(0.44452876778583217, 'accept')"
      ]
     },
     "execution_count": 65,
     "metadata": {},
     "output_type": "execute_result"
    }
   ],
   "source": [
    "# two_sample_unpaired_t_test(filename) takes as input a csv file to read the data from, and returns a tuple with:\n",
    "# (1) the first element as the p value returned from the t-test, and \n",
    "# (2) the second element as a string which can take two values: \"accept\" or \"reject\", indicating whether you accept or\n",
    "# reject the hypothesis, respectively.\n",
    "import pandas\n",
    "from scipy import stats\n",
    "\n",
    "\n",
    "def two_sample_unpaired_t_test(filename):\n",
    "    df = pandas.read_csv(filename)\n",
    "    male = (df[df.Gender == \"Male\"])\n",
    "    female = (df[df.Gender == \"Female\"])\n",
    "    VIQmale = list(male.iloc[:,2])\n",
    "    VIQfemale = list(female.iloc[:,2])\n",
    "    \n",
    "    result = stats.ttest_ind(VIQmale, VIQfemale)\n",
    "    \n",
    "    pVal = result[1]\n",
    "    \n",
    "    if pVal>0.1:\n",
    "        return (pVal,\"accept\")\n",
    "    else:\n",
    "        return (pVal,\"reject\")\n",
    "    ###\n",
    "    ### YOUR CODE HERE\n",
    "    ###\n",
    "\n",
    "# Example output: (0.44452876778583217, 'accept')\n",
    "two_sample_unpaired_t_test(\"brain_size_features_demo\")"
   ]
  },
  {
   "cell_type": "code",
   "execution_count": 79,
   "metadata": {},
   "outputs": [
    {
     "data": {
      "text/plain": [
       "(0.08217263818364236, 'reject', 0.6427725009414841, 'accept')"
      ]
     },
     "execution_count": 79,
     "metadata": {},
     "output_type": "execute_result"
    }
   ],
   "source": [
    "# two_sample_paired_t_test(filename) takes as input a csv file to read the data from, and returns a tuple with:\n",
    "# (1) the first element as the p value returned from the paired t-test, and \n",
    "# (2) the second element as \"accept\" or \"reject\", indicating whether you accept or reject based on the paired test,\n",
    "# (3) the third element as the p value returned from the unpaired t-test, and \n",
    "# (4) the fourth element as \"accept\" or \"reject\", indicating whether you accept or reject based on the unpaired test.\n",
    "\n",
    "# For example,\n",
    "# filename: brain_size_features_demo.csv\n",
    "# output: (0.08217263818364236, 'reject', 0.6427725009414841, 'accept')\n",
    "import pandas\n",
    "from scipy import stats\n",
    "def two_sample_paired_t_test(filename):\n",
    "    resultList = []\n",
    "    df = pandas.read_csv(filename)\n",
    "    FSIQ = df[[\"FSIQ\"]]\n",
    "    PIQ = df[[\"PIQ\"]]\n",
    "    \n",
    "    resultPaired = stats.ttest_rel(FSIQ,PIQ)\n",
    "    pVal1 = resultPaired[1]\n",
    "    resultList.append(float(pVal1))\n",
    "    if pVal1>0.1:\n",
    "        resultList.append(\"accept\")\n",
    "    else:\n",
    "        resultList.append(\"reject\")    \n",
    "        \n",
    "        \n",
    "    resultUnpaired = stats.ttest_ind(FSIQ,PIQ)\n",
    "    pVal2 = resultUnpaired[1]\n",
    "    resultList.append(float(pVal2))\n",
    "    if pVal2>0.1:\n",
    "        resultList.append(\"accept\")\n",
    "    else:\n",
    "        resultList.append(\"reject\")        \n",
    "    ###\n",
    "    ### YOUR CODE HERE\n",
    "    ###\n",
    "    return(tuple(resultList))\n",
    "\n",
    "# Example Output: (0.08217263818364236, 'reject', 0.6427725009414841, 'accept')\n",
    "two_sample_paired_t_test(\"brain_size_features_demo\")"
   ]
  },
  {
   "cell_type": "code",
   "execution_count": null,
   "metadata": {},
   "outputs": [],
   "source": []
  }
 ],
 "metadata": {
  "kernelspec": {
   "display_name": "Python 3",
   "language": "python",
   "name": "python3"
  },
  "language_info": {
   "codemirror_mode": {
    "name": "ipython",
    "version": 3
   },
   "file_extension": ".py",
   "mimetype": "text/x-python",
   "name": "python",
   "nbconvert_exporter": "python",
   "pygments_lexer": "ipython3",
   "version": "3.7.3"
  }
 },
 "nbformat": 4,
 "nbformat_minor": 2
}
