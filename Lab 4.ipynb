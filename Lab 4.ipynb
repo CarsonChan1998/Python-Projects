{
 "cells": [
  {
   "cell_type": "code",
   "execution_count": 40,
   "metadata": {},
   "outputs": [
    {
     "data": {
      "text/html": [
       "<ol class=list-inline>\n",
       "\t<li>9</li>\n",
       "\t<li>6</li>\n",
       "</ol>\n"
      ],
      "text/latex": [
       "\\begin{enumerate*}\n",
       "\\item 9\n",
       "\\item 6\n",
       "\\end{enumerate*}\n"
      ],
      "text/markdown": [
       "1. 9\n",
       "2. 6\n",
       "\n",
       "\n"
      ],
      "text/plain": [
       "[1] 9 6"
      ]
     },
     "metadata": {},
     "output_type": "display_data"
    }
   ],
   "source": [
    "data = read.csv(file=\"SAT_Participation_Demo.csv\", header=TRUE, sep=\",\")\n",
    "return (dim(data))"
   ]
  },
  {
   "cell_type": "code",
   "execution_count": 59,
   "metadata": {},
   "outputs": [
    {
     "data": {
      "text/html": [
       "<ol class=list-inline>\n",
       "\t<li>9</li>\n",
       "\t<li>3</li>\n",
       "</ol>\n"
      ],
      "text/latex": [
       "\\begin{enumerate*}\n",
       "\\item 9\n",
       "\\item 3\n",
       "\\end{enumerate*}\n"
      ],
      "text/markdown": [
       "1. 9\n",
       "2. 3\n",
       "\n",
       "\n"
      ],
      "text/plain": [
       "[1] 9 3"
      ]
     },
     "metadata": {},
     "output_type": "display_data"
    }
   ],
   "source": [
    "data1 = read.csv(file=\"SAT_Participation_Demo.csv\", sep=\",\")\n",
    "data1 = data1[ -c(1:3) ]\n",
    "mat = data.matrix(data1)\n",
    "return (dim(mat))"
   ]
  },
  {
   "cell_type": "code",
   "execution_count": 65,
   "metadata": {},
   "outputs": [
    {
     "data": {
      "text/html": [
       "79.6666666666667"
      ],
      "text/latex": [
       "79.6666666666667"
      ],
      "text/markdown": [
       "79.6666666666667"
      ],
      "text/plain": [
       "[1] 79.66667"
      ]
     },
     "metadata": {},
     "output_type": "display_data"
    }
   ],
   "source": [
    "data2 = read.csv(file=\"SAT_Participation_Demo.csv\", sep=\",\")\n",
    "return (mean(data2[,6]))\n"
   ]
  },
  {
   "cell_type": "code",
   "execution_count": 66,
   "metadata": {},
   "outputs": [
    {
     "data": {
      "text/html": [
       "13.8021737418423"
      ],
      "text/latex": [
       "13.8021737418423"
      ],
      "text/markdown": [
       "13.8021737418423"
      ],
      "text/plain": [
       "[1] 13.80217"
      ]
     },
     "metadata": {},
     "output_type": "display_data"
    }
   ],
   "source": [
    "data2 = read.csv(file=\"SAT_Participation_Demo.csv\", sep=\",\")\n",
    "return (sd(data2[,6]))"
   ]
  },
  {
   "cell_type": "code",
   "execution_count": 82,
   "metadata": {},
   "outputs": [
    {
     "data": {
      "text/html": [
       "<ol class=list-inline>\n",
       "\t<li>-0.91772983760281</li>\n",
       "\t<li>0.748674341202292</li>\n",
       "\t<li>0.0966031408002954</li>\n",
       "\t<li>0.458864918801405</li>\n",
       "\t<li>-0.0483015704001482</li>\n",
       "\t<li>1.47319789720451</li>\n",
       "\t<li>0.386412563201183</li>\n",
       "\t<li>-0.193206281600592</li>\n",
       "\t<li>-2.00451517160614</li>\n",
       "</ol>\n"
      ],
      "text/latex": [
       "\\begin{enumerate*}\n",
       "\\item -0.91772983760281\n",
       "\\item 0.748674341202292\n",
       "\\item 0.0966031408002954\n",
       "\\item 0.458864918801405\n",
       "\\item -0.0483015704001482\n",
       "\\item 1.47319789720451\n",
       "\\item 0.386412563201183\n",
       "\\item -0.193206281600592\n",
       "\\item -2.00451517160614\n",
       "\\end{enumerate*}\n"
      ],
      "text/markdown": [
       "1. -0.91772983760281\n",
       "2. 0.748674341202292\n",
       "3. 0.0966031408002954\n",
       "4. 0.458864918801405\n",
       "5. -0.0483015704001482\n",
       "6. 1.47319789720451\n",
       "7. 0.386412563201183\n",
       "8. -0.193206281600592\n",
       "9. -2.00451517160614\n",
       "\n",
       "\n"
      ],
      "text/plain": [
       "[1] -0.91772984  0.74867434  0.09660314  0.45886492 -0.04830157  1.47319790\n",
       "[7]  0.38641256 -0.19320628 -2.00451517"
      ]
     },
     "metadata": {},
     "output_type": "display_data"
    }
   ],
   "source": [
    "data2 = read.csv(file=\"SAT_Participation_Demo.csv\", sep=\",\")\n",
    "mean = mean(data2[,6])\n",
    "sd = sd(data2[,6])\n",
    "col = (data2$Participation.Rate..estimate...2012 -mean)/sd\n",
    "return (col)"
   ]
  },
  {
   "cell_type": "code",
   "execution_count": null,
   "metadata": {},
   "outputs": [],
   "source": []
  },
  {
   "cell_type": "code",
   "execution_count": null,
   "metadata": {},
   "outputs": [],
   "source": []
  }
 ],
 "metadata": {
  "kernelspec": {
   "display_name": "R",
   "language": "R",
   "name": "ir"
  },
  "language_info": {
   "codemirror_mode": "r",
   "file_extension": ".r",
   "mimetype": "text/x-r-source",
   "name": "R",
   "pygments_lexer": "r",
   "version": "3.6.1"
  }
 },
 "nbformat": 4,
 "nbformat_minor": 2
}
