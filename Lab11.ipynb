{
 "cells": [
  {
   "cell_type": "markdown",
   "metadata": {
    "deletable": false,
    "editable": false,
    "nbgrader": {
     "grade": false,
     "locked": true,
     "solution": false
    }
   },
   "source": [
    "# Word Count using Local Map+Reduce "
   ]
  },
  {
   "cell_type": "markdown",
   "metadata": {
    "deletable": false,
    "editable": false,
    "nbgrader": {
     "grade": false,
     "locked": true,
     "solution": false
    }
   },
   "source": [
    "You are given an input file. The format of the file is: doc_id \\t sentence. The words in the sentence are separated by \n",
    "a whitespace character (' ').\n",
    "To compare the values, you can use the provided file 'documents.txt'. We will use a separate test file with the same format as above, to test your code.\n",
    "\n",
    "1. Convert each sentence into lowercase and split into words. You can assume that the words are separated by a whitespace character (' '). \n",
    "2. Calculate the frequency of each word across all the documents. "
   ]
  },
  {
   "cell_type": "markdown",
   "metadata": {
    "deletable": false,
    "editable": false,
    "nbgrader": {
     "grade": false,
     "locked": true,
     "solution": false
    }
   },
   "source": [
    "# Q1: Mapper function"
   ]
  },
  {
   "cell_type": "markdown",
   "metadata": {
    "deletable": false,
    "editable": false,
    "nbgrader": {
     "grade": false,
     "locked": true,
     "solution": false
    }
   },
   "source": [
    "Write a mapper function that takes a list of sentences as input and outputs a list of (key, value) pairs, such that the key is a word and value is 1. "
   ]
  },
  {
   "cell_type": "code",
   "execution_count": 72,
   "metadata": {
    "scrolled": true
   },
   "outputs": [
    {
     "data": {
      "text/plain": [
       "[('the', 1),\n",
       " ('the', 1),\n",
       " ('the', 1),\n",
       " ('quick', 1),\n",
       " ('brown', 1),\n",
       " ('fox', 1),\n",
       " ('jumped', 1),\n",
       " ('over', 1),\n",
       " ('the', 1),\n",
       " ('lazy', 1),\n",
       " ('grey', 1),\n",
       " ('dogs', 1),\n",
       " ('that', 1),\n",
       " ('is', 1),\n",
       " ('one', 1),\n",
       " ('small', 1),\n",
       " ('step', 1),\n",
       " ('for', 1),\n",
       " ('a', 1),\n",
       " ('man', 1),\n",
       " ('but', 1),\n",
       " ('one', 1),\n",
       " ('giant', 1),\n",
       " ('leap', 1),\n",
       " ('for', 1),\n",
       " ('mankind', 1)]"
      ]
     },
     "execution_count": 72,
     "metadata": {},
     "output_type": "execute_result"
    }
   ],
   "source": [
    "# mapper(listOfSentences) takes as input a list Of sentences (stings), converts each sentence into lowercase and \n",
    "# splits each sentence into words. The function returns the output as a list of tuples with:\n",
    "# first element (key) as the word\n",
    "# second element (value) as 1\n",
    "\n",
    "\n",
    "def mapper(filename):\n",
    "    result = []\n",
    "    indWords = []\n",
    "    file = open(filename,\"r+\")\n",
    "    for line in file.readlines():\n",
    "        temp = line.lower().split(\"\\t\")\n",
    "        result.append(temp[1])\n",
    "    for i in result:\n",
    "        temp = i.split()\n",
    "        indWords.extend(temp)\n",
    "    \n",
    "    \n",
    "    for i in range(len(indWords)):\n",
    "        indWords[i] = (indWords[i],1)\n",
    "    return (indWords)\n",
    "    ###\n",
    "    ### YOUR CODE HERE\n",
    "    ###\n",
    "\n",
    "# Example \n",
    "# \n",
    "# input: documents.txt\n",
    "# \n",
    "# output = [('the', 1), ('quick', 1), ('brown', 1), ('fox', 1), ('jumped', 1), ('over', 1), ('the', 1), \n",
    "# ('lazy', 1), ('grey', 1), ('dogs', 1), ('that', 1), ('is', 1), ('one', 1), ('small', 1), ('step', 1), \n",
    "# ('for', 1), ('a', 1), ('man', 1), ('but', 1), ('one', 1), ('giant', 1), ('leap', 1), ('for', 1), ('mankind', 1)]\n",
    "mapper(\"documents.txt\")"
   ]
  },
  {
   "cell_type": "code",
   "execution_count": 73,
   "metadata": {
    "deletable": false,
    "editable": false,
    "nbgrader": {
     "grade": true,
     "grade_id": "mapper",
     "locked": true,
     "points": "1",
     "solution": false
    }
   },
   "outputs": [],
   "source": [
    "###\n",
    "### AUTOGRADER TEST - DO NOT REMOVE\n",
    "###\n"
   ]
  },
  {
   "cell_type": "code",
   "execution_count": 74,
   "metadata": {
    "deletable": false,
    "editable": false,
    "nbgrader": {
     "grade": true,
     "grade_id": "mapper_alt",
     "locked": true,
     "points": "1",
     "solution": false
    }
   },
   "outputs": [],
   "source": [
    "###\n",
    "### AUTOGRADER TEST - DO NOT REMOVE\n",
    "###\n"
   ]
  },
  {
   "cell_type": "code",
   "execution_count": 75,
   "metadata": {
    "deletable": false,
    "editable": false,
    "nbgrader": {
     "grade": true,
     "grade_id": "mapper_test",
     "locked": true,
     "points": "2",
     "solution": false
    }
   },
   "outputs": [],
   "source": [
    "###\n",
    "### AUTOGRADER TEST - DO NOT REMOVE\n",
    "###\n"
   ]
  },
  {
   "cell_type": "markdown",
   "metadata": {
    "deletable": false,
    "editable": false,
    "nbgrader": {
     "grade": false,
     "locked": true,
     "solution": false
    }
   },
   "source": [
    "# Q2: Combiner function"
   ]
  },
  {
   "cell_type": "markdown",
   "metadata": {
    "deletable": false,
    "editable": false,
    "nbgrader": {
     "grade": false,
     "locked": true,
     "solution": false
    }
   },
   "source": [
    "Write a combiner function that takes the output of the mapper function as input and outputs a dictionary with the key as a word and value as a list of counts for the word."
   ]
  },
  {
   "cell_type": "code",
   "execution_count": 76,
   "metadata": {},
   "outputs": [
    {
     "data": {
      "text/plain": [
       "{'a': [1],\n",
       " 'brown': [1],\n",
       " 'but': [1],\n",
       " 'dogs': [1],\n",
       " 'for': [1, 1],\n",
       " 'fox': [1],\n",
       " 'giant': [1],\n",
       " 'grey': [1],\n",
       " 'is': [1],\n",
       " 'jumped': [1],\n",
       " 'lazy': [1],\n",
       " 'leap': [1],\n",
       " 'man': [1],\n",
       " 'mankind': [1],\n",
       " 'one': [1, 1],\n",
       " 'over': [1],\n",
       " 'quick': [1],\n",
       " 'small': [1],\n",
       " 'step': [1],\n",
       " 'that': [1],\n",
       " 'the': [1, 1]}"
      ]
     },
     "execution_count": 76,
     "metadata": {},
     "output_type": "execute_result"
    }
   ],
   "source": [
    "# combiner(mapper_output) takes as input the output of the mapper function, and returns the output as \n",
    "# a dictionary with the key as a word and value as a list of counts for the word.\n",
    "\n",
    "from collections import defaultdict \n",
    "from operator import itemgetter \n",
    "from itertools import groupby \n",
    "def combiner(mapper_output):\n",
    "    mapper_output = sorted(mapper_output)\n",
    "    ###\n",
    "    ### YOUR CODE HERE\n",
    "    ###\n",
    "    dictionary = {}\n",
    "    for i in mapper_output:\n",
    "        if i[0] not in dictionary.keys():\n",
    "            key = i[0]\n",
    "            dictionary[key] = [i[1]]\n",
    "        else:\n",
    "            key = i[0]\n",
    "            arr = dictionary.get(key)\n",
    "            arr.append(1)\n",
    "            dictionary[key] = arr\n",
    "            \n",
    "    return dictionary\n",
    "    \n",
    "    \n",
    "# Example \n",
    "# \n",
    "# input: [('the', 1), ('quick', 1), ('brown', 1), ('fox', 1), ('jumped', 1), ('over', 1), ('the', 1), \n",
    "# ('lazy', 1), ('grey', 1), ('dogs', 1), ('that', 1), ('is', 1), ('one', 1), ('small', 1), ('step', 1), \n",
    "# ('for', 1), ('a', 1), ('man', 1), ('but', 1), ('one', 1), ('giant', 1), ('leap', 1), ('for', 1), ('mankind', 1)]\n",
    "# \n",
    "# order is not important\n",
    "# output = {'a': [1],'brown': [1],'but': [1],'dogs': [1],'for': [1, 1],'fox': [1],'giant': [1],'grey': [1],'is': [1],\n",
    "# 'jumped': [1],'lazy': [1],'leap': [1],'man': [1],'mankind': [1],'one': [1, 1],'over': [1],'quick': [1],'small': [1],\n",
    "# 'step': [1], 'that': [1],'the': [1, 1]}\n",
    "combiner([('the', 1), ('quick', 1), ('brown', 1), ('fox', 1), ('jumped', 1), ('over', 1), ('the', 1), \\\n",
    "          ('lazy', 1), ('grey', 1), ('dogs', 1), ('that', 1), ('is', 1), ('one', 1), ('small', 1), \\\n",
    "          ('step', 1), ('for', 1), ('a', 1), ('man', 1), ('but', 1), ('one', 1), ('giant', 1), ('leap', 1), \\\n",
    "          ('for', 1), ('mankind', 1)])\n",
    "# or, test both:\n",
    "# combiner(mapper(\"documents.txt\"))"
   ]
  },
  {
   "cell_type": "code",
   "execution_count": 77,
   "metadata": {
    "deletable": false,
    "editable": false,
    "nbgrader": {
     "grade": true,
     "grade_id": "combiner",
     "locked": true,
     "points": "1",
     "solution": false
    }
   },
   "outputs": [],
   "source": [
    "###\n",
    "### AUTOGRADER TEST - DO NOT REMOVE\n",
    "###\n"
   ]
  },
  {
   "cell_type": "code",
   "execution_count": 78,
   "metadata": {
    "deletable": false,
    "editable": false,
    "nbgrader": {
     "grade": true,
     "grade_id": "combiner_alt",
     "locked": true,
     "points": "1",
     "solution": false
    }
   },
   "outputs": [],
   "source": [
    "###\n",
    "### AUTOGRADER TEST - DO NOT REMOVE\n",
    "###\n"
   ]
  },
  {
   "cell_type": "code",
   "execution_count": 79,
   "metadata": {
    "deletable": false,
    "editable": false,
    "nbgrader": {
     "grade": true,
     "grade_id": "combiner_test",
     "locked": true,
     "points": "2",
     "solution": false
    }
   },
   "outputs": [],
   "source": [
    "###\n",
    "### AUTOGRADER TEST - DO NOT REMOVE\n",
    "###\n"
   ]
  },
  {
   "cell_type": "markdown",
   "metadata": {
    "deletable": false,
    "editable": false,
    "nbgrader": {
     "grade": false,
     "locked": true,
     "solution": false
    }
   },
   "source": [
    "# Q3: Reducer function"
   ]
  },
  {
   "cell_type": "markdown",
   "metadata": {
    "deletable": false,
    "editable": false,
    "nbgrader": {
     "grade": false,
     "locked": true,
     "solution": false
    }
   },
   "source": [
    "Write a reducer function that takes a word and corresponding list of counts as input and outputs a tuple of (key, value), such that the key is the word and value is the total count for that word. "
   ]
  },
  {
   "cell_type": "code",
   "execution_count": 80,
   "metadata": {},
   "outputs": [
    {
     "data": {
      "text/plain": [
       "('for', 2)"
      ]
     },
     "execution_count": 80,
     "metadata": {},
     "output_type": "execute_result"
    }
   ],
   "source": [
    "# reducer(word, listOfCounts) takes a word and corresponding list of counts as input and outputs a tuple with:\n",
    "# the first element as the word\n",
    "# second element as the total count which is the sum of counts in the given list.\n",
    "\n",
    "\n",
    "\n",
    "def reducer(word, listOfCounts):\n",
    "    \n",
    "    ###\n",
    "    ### YOUR CODE HERE\n",
    "    ###\n",
    "    return (word,sum(listOfCounts))\n",
    "# Example \n",
    "# \n",
    "# input: ('for', [1, 1])\n",
    "#\n",
    "# output: ('for', 2)\n",
    "reducer('for', [1, 1])"
   ]
  },
  {
   "cell_type": "code",
   "execution_count": null,
   "metadata": {
    "collapsed": true,
    "deletable": false,
    "editable": false,
    "nbgrader": {
     "grade": true,
     "grade_id": "reducer",
     "locked": true,
     "points": "1",
     "solution": false
    }
   },
   "outputs": [],
   "source": [
    "###\n",
    "### AUTOGRADER TEST - DO NOT REMOVE\n",
    "###\n"
   ]
  },
  {
   "cell_type": "code",
   "execution_count": null,
   "metadata": {
    "collapsed": true,
    "deletable": false,
    "editable": false,
    "nbgrader": {
     "grade": true,
     "grade_id": "reducer_alt",
     "locked": true,
     "points": "1",
     "solution": false
    }
   },
   "outputs": [],
   "source": [
    "###\n",
    "### AUTOGRADER TEST - DO NOT REMOVE\n",
    "###\n"
   ]
  },
  {
   "cell_type": "code",
   "execution_count": null,
   "metadata": {
    "collapsed": true,
    "deletable": false,
    "editable": false,
    "nbgrader": {
     "grade": true,
     "grade_id": "reducer_test",
     "locked": true,
     "points": "2",
     "solution": false
    }
   },
   "outputs": [],
   "source": [
    "###\n",
    "### AUTOGRADER TEST - DO NOT REMOVE\n",
    "###\n"
   ]
  },
  {
   "cell_type": "markdown",
   "metadata": {
    "deletable": false,
    "editable": false,
    "nbgrader": {
     "grade": false,
     "locked": true,
     "solution": false
    }
   },
   "source": [
    "# Q4: Execute function"
   ]
  },
  {
   "cell_type": "markdown",
   "metadata": {
    "deletable": false,
    "editable": false,
    "nbgrader": {
     "grade": false,
     "locked": true,
     "solution": false
    }
   },
   "source": [
    "Write the wrapper execute function that uses the mapper, combiner and reducer functions above to calculate the frequency (counts) of the words across all the sentences sentences. "
   ]
  },
  {
   "cell_type": "code",
   "execution_count": 81,
   "metadata": {},
   "outputs": [
    {
     "data": {
      "text/plain": [
       "[('a', 1),\n",
       " ('brown', 1),\n",
       " ('but', 1),\n",
       " ('dogs', 1),\n",
       " ('for', 2),\n",
       " ('fox', 1),\n",
       " ('giant', 1),\n",
       " ('grey', 1),\n",
       " ('is', 1),\n",
       " ('jumped', 1),\n",
       " ('lazy', 1),\n",
       " ('leap', 1),\n",
       " ('man', 1),\n",
       " ('mankind', 1),\n",
       " ('one', 2),\n",
       " ('over', 1),\n",
       " ('quick', 1),\n",
       " ('small', 1),\n",
       " ('step', 1),\n",
       " ('that', 1),\n",
       " ('the', 4)]"
      ]
     },
     "execution_count": 81,
     "metadata": {},
     "output_type": "execute_result"
    }
   ],
   "source": [
    "# execute(listOfDocuments) takes a list of sentences (strings) as input. \n",
    "# The function makes a call to the mapper function, sorts the output of the mapper function (by key). This sorted \n",
    "# output is then given as input to the combiner function, to get a dictionary of word and corresponding list of counts. \n",
    "# For each word in the dictionary, call the reducer to get the word and its total count. \n",
    "# The function returns a sorted list of tuples (sorted by first element) with:\n",
    "# the first element as the word\n",
    "# the second element as the total count\n",
    "\n",
    "\n",
    "def execute(filename):\n",
    "    listOfTuples = sorted(mapper(filename))\n",
    "    dictOfWords = combiner(listOfTuples)\n",
    "    result = []\n",
    "    for i in dictOfWords:\n",
    "        wordAndCount = reducer(i,dictOfWords.get(i))\n",
    "        result.append(wordAndCount)\n",
    "    result = sorted(result)\n",
    "    return result\n",
    "\n",
    "    ###\n",
    "    ### YOUR CODE HERE\n",
    "    ###\n",
    "    \n",
    "# Example \n",
    "# output: [('a', 1), ('brown', 1), ('but', 1), ('dogs', 1), ('for', 2), ('fox', 1), ('giant', 1), ('grey', 1), \n",
    "# ('is', 1), ('jumped', 1), ('lazy', 1), ('leap', 1), ('man', 1), ('mankind', 1), ('one', 2), ('over', 1),\n",
    "# ('quick', 1), ('small', 1), ('step', 1), ('that', 1), ('the', 2)]\n",
    "execute(\"documents.txt\")"
   ]
  },
  {
   "cell_type": "code",
   "execution_count": null,
   "metadata": {
    "collapsed": true,
    "deletable": false,
    "editable": false,
    "nbgrader": {
     "grade": true,
     "grade_id": "execute",
     "locked": true,
     "points": "2",
     "solution": false
    }
   },
   "outputs": [],
   "source": [
    "###\n",
    "### AUTOGRADER TEST - DO NOT REMOVE\n",
    "###\n"
   ]
  },
  {
   "cell_type": "code",
   "execution_count": null,
   "metadata": {
    "collapsed": true,
    "deletable": false,
    "editable": false,
    "nbgrader": {
     "grade": true,
     "grade_id": "execute_alt",
     "locked": true,
     "points": "2",
     "solution": false
    }
   },
   "outputs": [],
   "source": [
    "###\n",
    "### AUTOGRADER TEST - DO NOT REMOVE\n",
    "###\n"
   ]
  },
  {
   "cell_type": "code",
   "execution_count": null,
   "metadata": {
    "collapsed": true,
    "deletable": false,
    "editable": false,
    "nbgrader": {
     "grade": true,
     "grade_id": "execute_test",
     "locked": true,
     "points": "4",
     "solution": false
    }
   },
   "outputs": [],
   "source": [
    "###\n",
    "### AUTOGRADER TEST - DO NOT REMOVE\n",
    "###\n"
   ]
  }
 ],
 "metadata": {
  "kernelspec": {
   "display_name": "Python 3",
   "language": "python",
   "name": "python3"
  },
  "language_info": {
   "codemirror_mode": {
    "name": "ipython",
    "version": 3
   },
   "file_extension": ".py",
   "mimetype": "text/x-python",
   "name": "python",
   "nbconvert_exporter": "python",
   "pygments_lexer": "ipython3",
   "version": "3.7.3"
  }
 },
 "nbformat": 4,
 "nbformat_minor": 2
}
